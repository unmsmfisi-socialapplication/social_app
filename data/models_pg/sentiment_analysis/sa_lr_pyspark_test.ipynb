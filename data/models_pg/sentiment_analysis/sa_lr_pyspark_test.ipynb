{
 "cells": [
  {
   "cell_type": "code",
   "execution_count": 3,
   "metadata": {},
   "outputs": [],
   "source": [
    "from pyspark.sql import SparkSession\n",
    "from pyspark.sql.functions import regexp_replace\n",
    "from pyspark.ml.feature import Tokenizer, StopWordsRemover\n",
    "from pyspark.ml.feature import CountVectorizer\n",
    "from pyspark.ml.feature import IDF\n",
    "from pyspark.ml.classification import LogisticRegression\n",
    "from pyspark.ml.evaluation import BinaryClassificationEvaluator\n",
    "from pyspark.ml.tuning import CrossValidator, ParamGridBuilder\n",
    "from pyspark.ml.evaluation import MulticlassClassificationEvaluator"
   ]
  },
  {
   "cell_type": "code",
   "execution_count": 4,
   "metadata": {},
   "outputs": [],
   "source": [
    "def read_file(fileUrl, spark):\n",
    "    df = spark.read.csv(fileUrl, sep=\",\", inferSchema=True, header=False)\n",
    "    return df"
   ]
  },
  {
   "cell_type": "code",
   "execution_count": 5,
   "metadata": {},
   "outputs": [],
   "source": [
    "def pre_process(df):\n",
    "    df = df.withColumnRenamed('_c0', \"id\").withColumnRenamed('_c1', 'label').withColumnRenamed('_c2', 'tweet')\n",
    "    \n",
    "    df = df.withColumn('tweet', regexp_replace('tweet', '[^a-z0-9A-Z`~!@#$%&<>?., ]', ''))\n",
    "    df = df.withColumn('tweet', regexp_replace('tweet', '[0-9`~!@#$%&<>?,\\']', ''))\n",
    "    df = df.withColumn('tweet', regexp_replace('tweet', 'http://*.*.com', ''))\n",
    "    df = df.withColumn('tweet', regexp_replace('tweet', 'www.*.com', ''))\n",
    "    df = df.withColumn('tweet', regexp_replace('tweet', '\\.', ''))\n",
    "    \n",
    "    tokenizer = Tokenizer(inputCol=\"tweet\", outputCol=\"words\")\n",
    "    wordData = tokenizer.transform(df)\n",
    "    \n",
    "    remover = StopWordsRemover(inputCol=\"words\", outputCol=\"word_clean\")\n",
    "    word_clean_data = remover.transform(wordData)\n",
    "    \n",
    "    count = CountVectorizer(inputCol=\"word_clean\", outputCol=\"rawFeatures\")\n",
    "    model = count.fit(word_clean_data)\n",
    "    \n",
    "    featurizedData = model.transform(word_clean_data)\n",
    "    idf = IDF(inputCol=\"rawFeatures\", outputCol=\"features\")\n",
    "    idfModel = idf.fit(featurizedData)\n",
    "    rescaledData = idfModel.transform(featurizedData)\n",
    "    \n",
    "    return rescaledData"
   ]
  },
  {
   "cell_type": "code",
   "execution_count": 6,
   "metadata": {},
   "outputs": [],
   "source": [
    "def train_test_split(df):\n",
    "    seed = 0\n",
    "    trainDf, testDf = df.randomSplit([0.7, 0.3], seed)\n",
    "    return trainDf, testDf"
   ]
  },
  {
   "cell_type": "code",
   "execution_count": 7,
   "metadata": {},
   "outputs": [],
   "source": [
    "def details_table(train_predictions, test_predictions):\n",
    "    train_predictions.groupBy('label', 'prediction').count().show()\n",
    "    test_predictions.groupBy('label', 'prediction').count().show()"
   ]
  },
  {
   "cell_type": "code",
   "execution_count": 8,
   "metadata": {},
   "outputs": [],
   "source": [
    "def evaluate_model(predictions, labelCol=\"label\", predictionCol=\"prediction\"):\n",
    "    evaluator = BinaryClassificationEvaluator(rawPredictionCol=predictionCol, labelCol=labelCol, metricName=\"areaUnderROC\")\n",
    "    roc = evaluator.evaluate(predictions)\n",
    "    \n",
    "    evaluator = MulticlassClassificationEvaluator(predictionCol=predictionCol, labelCol=labelCol, metricName=\"f1\")\n",
    "    f1 = evaluator.evaluate(predictions)\n",
    "    \n",
    "    evaluator = MulticlassClassificationEvaluator(predictionCol=predictionCol, labelCol=labelCol, metricName=\"accuracy\")\n",
    "    accuracy = evaluator.evaluate(predictions)\n",
    "    \n",
    "    return {\"ROC\": roc, \"F1\": f1, \"Accuracy\": accuracy}"
   ]
  },
  {
   "cell_type": "code",
   "execution_count": 9,
   "metadata": {},
   "outputs": [],
   "source": [
    "def logistic_regression(train_data, test_data):\n",
    "    lr = LogisticRegression(maxIter=15)\n",
    "    paramGrid_lr = ParamGridBuilder().build()\n",
    "    \n",
    "    crossval_lr = CrossValidator(estimator=lr, estimatorParamMaps=paramGrid_lr, evaluator=BinaryClassificationEvaluator(), numFolds=8)\n",
    "    cvModel_lr = crossval_lr.fit(train_data)\n",
    "    \n",
    "    best_model_lr = cvModel_lr.bestModel\n",
    "    train_fit_lr = best_model_lr.transform(train_data)\n",
    "    train_summary = evaluate_model(train_fit_lr)\n",
    "    \n",
    "    predictions_lr = cvModel_lr.transform(test_data)\n",
    "    test_summary = evaluate_model(predictions_lr)\n",
    "\n",
    "    details_table(train_fit_lr, predictions_lr)\n",
    "    \n",
    "    return train_summary, test_summary"
   ]
  },
  {
   "cell_type": "code",
   "execution_count": 10,
   "metadata": {},
   "outputs": [
    {
     "name": "stdout",
     "output_type": "stream",
     "text": [
      "+-----+----------+-----+\n",
      "|label|prediction|count|\n",
      "+-----+----------+-----+\n",
      "|    1|       0.0|   10|\n",
      "|    0|       0.0|20735|\n",
      "|    1|       1.0| 1563|\n",
      "|    0|       1.0|    2|\n",
      "+-----+----------+-----+\n",
      "\n",
      "+-----+----------+-----+\n",
      "|label|prediction|count|\n",
      "+-----+----------+-----+\n",
      "|    1|       0.0|  244|\n",
      "|    0|       0.0| 8656|\n",
      "|    1|       1.0|  432|\n",
      "|    0|       1.0|  320|\n",
      "+-----+----------+-----+\n",
      "\n"
     ]
    }
   ],
   "source": [
    "if __name__ == \"__main__\":\n",
    "    spark = SparkSession.builder.appName(\"SocialApp\").getOrCreate()\n",
    "    url = \"./twitter.csv\"  # Provide the path to file\n",
    "    df = read_file(url, spark)\n",
    "    df = pre_process(df)\n",
    "    train_data, test_data = train_test_split(df)\n",
    "    train_summary, test_summary = logistic_regression(train_data, test_data)\n",
    "    spark.stop()"
   ]
  }
 ],
 "metadata": {
  "kernelspec": {
   "display_name": "Python 3",
   "language": "python",
   "name": "python3"
  },
  "language_info": {
   "codemirror_mode": {
    "name": "ipython",
    "version": 3
   },
   "file_extension": ".py",
   "mimetype": "text/x-python",
   "name": "python",
   "nbconvert_exporter": "python",
   "pygments_lexer": "ipython3",
   "version": "3.11.4"
  },
  "orig_nbformat": 4
 },
 "nbformat": 4,
 "nbformat_minor": 2
}
