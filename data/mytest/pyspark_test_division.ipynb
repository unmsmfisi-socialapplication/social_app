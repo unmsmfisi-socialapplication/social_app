{
 "cells": [
  {
   "cell_type": "markdown",
   "metadata": {},
   "source": [
    "# VERSIÓN 1"
   ]
  },
  {
   "cell_type": "code",
   "execution_count": 1,
   "metadata": {},
   "outputs": [
    {
     "name": "stdout",
     "output_type": "stream",
     "text": [
      "+------------------------------+--------+------------------------------+-----+----------+\n",
      "|                    clean_text|category|                   probability|label|prediction|\n",
      "+------------------------------+--------+------------------------------+-----+----------+\n",
      "|thanks for your great thoug...|       1|[0.9999087320241196,1.97952...|  0.0|       0.0|\n",
      "|agree take crisis 2008 tank...|       1|[0.9992259697306483,1.78501...|  0.0|       0.0|\n",
      "|much love too the beautiful...|       1|[0.9990916118296187,2.50813...|  0.0|       0.0|\n",
      "|appeasement hai mumkeen hai...|       1|[0.9989114628831615,5.05673...|  0.0|       0.0|\n",
      "|absolutelyyoure talented ac...|       1|[0.9988818167662321,3.78869...|  0.0|       0.0|\n",
      "|absolutelyyoure talented ac...|       1|[0.9988818167662321,3.78869...|  0.0|       0.0|\n",
      "|narendra modi interview bjp...|       1|[0.9987217361806554,5.27624...|  0.0|       0.0|\n",
      "|vote for pappu straight mig...|       1|[0.9986708302727557,1.03981...|  0.0|       0.0|\n",
      "|vote for pappu straight mig...|       1|[0.9986708302727557,1.03981...|  0.0|       0.0|\n",
      "|modi will wish you many man...|       1|[0.9984143535531508,6.62954...|  0.0|       0.0|\n",
      "+------------------------------+--------+------------------------------+-----+----------+\n",
      "only showing top 10 rows\n",
      "\n"
     ]
    }
   ],
   "source": [
    "from pyspark.sql import SparkSession\n",
    "from preprocessing import preprocess_data\n",
    "from training import train_model\n",
    "from pyspark.sql import functions as F\n",
    "\n",
    "# Crear una instancia de SparkSession\n",
    "spark = SparkSession.builder.appName(\"NombreDeLaApp\").getOrCreate()\n",
    "\n",
    "# Nombres de los archivos CSV que contienen los datos de tweets\n",
    "filename1 = './Twitter_Data.csv'\n",
    "filename2 = './Twitter_Data.csv'\n",
    "\n",
    "# Preprocesamiento de datos\n",
    "dataset = preprocess_data(spark, filename1, filename2)\n",
    "\n",
    "# Entrenamiento del modelo\n",
    "lrModel, testData = train_model(dataset)\n",
    "\n",
    "# Realización de predicciones en el conjunto de prueba\n",
    "predictions = lrModel.transform(testData)\n",
    "\n",
    "# Mostrar las 10 primeras predicciones ordenadas por probabilidad\n",
    "predictions.filter(predictions['prediction'] == 0).select(\"clean_text\", \"category\", \"probability\", \"label\", \"prediction\")\\\n",
    "    .orderBy(\"probability\", ascending=False).show(n=10, truncate=30)\n",
    "\n",
    "# Detener la sesión de PySpark\n",
    "spark.stop()\n"
   ]
  },
  {
   "cell_type": "markdown",
   "metadata": {},
   "source": [
    "# VERSIÓN 2"
   ]
  },
  {
   "cell_type": "code",
   "execution_count": 1,
   "metadata": {},
   "outputs": [
    {
     "name": "stdout",
     "output_type": "stream",
     "text": [
      "+------------------------------+--------+------------------------------+-----+----------+\n",
      "|                    clean_text|category|                   probability|label|prediction|\n",
      "+------------------------------+--------+------------------------------+-----+----------+\n",
      "|vote for pappu straight mig...|       1|[0.9992425267693166,5.37945...|  0.0|       0.0|\n",
      "|appeasement hai mumkeen hai...|       1|[0.9988912543452395,3.85556...|  0.0|       0.0|\n",
      "|its always great blessing f...|       1|[0.9986654466344741,1.93836...|  0.0|       0.0|\n",
      "|respected sir sar and madam...|       1|[0.998501564523588,9.190434...|  0.0|       0.0|\n",
      "|absolutelyyoure talented ac...|       1|[0.9983340032234882,4.59319...|  0.0|       0.0|\n",
      "|respected sir sar and madam...|       1|[0.9983128327480091,9.81409...|  0.0|       0.0|\n",
      "|respected shree narendrabha...|       1|[0.9980153739121862,0.00101...|  0.0|       0.0|\n",
      "|leaders and their promises ...|       1|[0.9976862987065443,8.01212...|  0.0|       0.0|\n",
      "|dear dad retired general gr...|       1|[0.9976253229032603,4.71787...|  0.0|       0.0|\n",
      "|respected sir sar and madam...|       1|[0.9975754236566232,0.00125...|  0.0|       0.0|\n",
      "+------------------------------+--------+------------------------------+-----+----------+\n",
      "only showing top 10 rows\n",
      "\n"
     ]
    }
   ],
   "source": [
    "from pyspark.sql import SparkSession\n",
    "from preprocessing import preprocess_data\n",
    "from training import train_model\n",
    "\n",
    "# Crear una instancia de SparkSession\n",
    "spark = SparkSession.builder.appName(\"SocialApp\").getOrCreate()\n",
    "\n",
    "# Nombres de los archivos CSV que contienen los datos de tweets\n",
    "filename = './Twitter_Data.csv'\n",
    "\n",
    "# Preprocesamiento de datos\n",
    "dataset = preprocess_data(spark, filename)\n",
    "\n",
    "# Entrenamiento del modelo\n",
    "lrModel, testData = train_model(dataset)\n",
    "\n",
    "# Realización de predicciones en el conjunto de prueba\n",
    "predictions = lrModel.transform(testData)\n",
    "\n",
    "# Mostrar las 10 primeras predicciones ordenadas por probabilidad\n",
    "predictions.filter(predictions['prediction'] == 0).select(\"clean_text\", \"category\", \"probability\", \"label\", \"prediction\")\\\n",
    "    .orderBy(\"probability\", ascending=False).show(n=10, truncate=30)\n",
    "\n",
    "# Detener la sesión de PySpark\n",
    "spark.stop()\n"
   ]
  }
 ],
 "metadata": {
  "kernelspec": {
   "display_name": "Python 3",
   "language": "python",
   "name": "python3"
  },
  "language_info": {
   "codemirror_mode": {
    "name": "ipython",
    "version": 3
   },
   "file_extension": ".py",
   "mimetype": "text/x-python",
   "name": "python",
   "nbconvert_exporter": "python",
   "pygments_lexer": "ipython3",
   "version": "3.11.4"
  }
 },
 "nbformat": 4,
 "nbformat_minor": 2
}
