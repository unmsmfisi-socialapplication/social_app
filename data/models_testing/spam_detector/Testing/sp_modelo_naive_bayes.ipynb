{
 "cells": [
  {
   "cell_type": "code",
   "execution_count": null,
   "id": "f451d7fe",
   "metadata": {},
   "outputs": [],
   "source": [
    "import pandas as pd\n",
    "import string\n",
    "import random\n",
    "import numpy as np\n",
    "from sklearn.feature_extraction.text import CountVectorizer\n",
    "from sklearn.model_selection import train_test_split\n",
    "from sklearn.naive_bayes import MultinomialNB\n",
    "from sklearn.metrics import accuracy_score  \n",
    "from sklearn.linear_model import LogisticRegression\n",
    "from sklearn.metrics import roc_curve, roc_auc_score\n",
    "import matplotlib.pyplot as plt\n",
    "#URL de data\n",
    "#https://docs.google.com/spreadsheets/d/1CPbjsWnHzdE7hCvWXzLOb5qO_UhmM8AeQXiSwc5LMvo/edit#gid=178051701\n",
    "#https://docs.google.com/spreadsheets/d/1CPbjsWnHzdE7hCvWXzLOb5qO_UhmM8AeQXiSwc5LMvo/edit?usp=sharing\n",
    "\n",
    "sheet_id = '1CPbjsWnHzdE7hCvWXzLOb5qO_UhmM8AeQXiSwc5LMvo'"
   ]
  },
  {
   "cell_type": "code",
   "execution_count": null,
   "id": "f909b300",
   "metadata": {
    "scrolled": false
   },
   "outputs": [],
   "source": [
    "df = pd.ExcelFile(f\"https://docs.google.com/spreadsheets/d/{sheet_id}/export?format=csv\")\n",
    "df = pd.read_csv(csv,'2023',header = 1)\n",
    "df"
   ]
  },
  {
   "cell_type": "code",
   "execution_count": null,
   "id": "48fa760e",
   "metadata": {
    "scrolled": false
   },
   "outputs": [],
   "source": [
    "random.seed(0)  # Esto asegura que los números aleatorios sean reproducibles\n",
    "df['tag'] = [random.choice([0, 1]) for _ in range(len(df))]"
   ]
  },
  {
   "cell_type": "code",
   "execution_count": null,
   "id": "d874caeb",
   "metadata": {
    "scrolled": false
   },
   "outputs": [],
   "source": [
    "df['tag'] = df['tag'].astype(int)"
   ]
  },
  {
   "cell_type": "code",
   "execution_count": null,
   "id": "43b4a59a",
   "metadata": {
    "scrolled": false
   },
   "outputs": [],
   "source": [
    "#data modelo"
   ]
  },
  {
   "cell_type": "code",
   "execution_count": null,
   "id": "30895d59",
   "metadata": {
    "scrolled": false
   },
   "outputs": [],
   "source": [
    "df.to_csv('date_modelo.csv', index=False)"
   ]
  },
  {
   "cell_type": "code",
   "execution_count": null,
   "id": "5ed76853",
   "metadata": {},
   "outputs": [],
   "source": [
    "#Variables de entrenamiento y prueba"
   ]
  },
  {
   "cell_type": "code",
   "execution_count": null,
   "id": "6524e297",
   "metadata": {},
   "outputs": [],
   "source": [
    "X_train, X_test, y_train,y_test = train_test_split(df['comment'],df['tag'],random_state=1)\n",
    "\n",
    "print('Number of rows in the total set: {}'.format(df.shape[0]))\n",
    "print('Number of rows in the training set: {}'.format(X_train.shape[0]))\n",
    "print('Number of rows in the test set: {}'.format(X_test.shape[0]))\n"
   ]
  },
  {
   "cell_type": "code",
   "execution_count": null,
   "id": "6a38072b",
   "metadata": {},
   "outputs": [],
   "source": [
    "count_vector = CountVectorizer()"
   ]
  },
  {
   "cell_type": "code",
   "execution_count": null,
   "id": "94599e53",
   "metadata": {},
   "outputs": [],
   "source": [
    "training_data = count_vector.fit_transform(X_train)\n",
    "print(training_data)\n",
    "print(count_vector.get_feature_names())"
   ]
  },
  {
   "cell_type": "code",
   "execution_count": null,
   "id": "09b30037",
   "metadata": {},
   "outputs": [],
   "source": [
    "#Contruccion de modelo"
   ]
  },
  {
   "cell_type": "code",
   "execution_count": null,
   "id": "c6622aa5",
   "metadata": {},
   "outputs": [],
   "source": [
    "testing_data = count_vector.transform(X_test)\n",
    "\n",
    "naive_bayes = MultinomialNB()\n",
    "naive_bayes.fit(training_data, y_train)\n",
    "\n",
    "predictions = naive_bayes.predict(testing_data)\n"
   ]
  },
  {
   "cell_type": "code",
   "execution_count": null,
   "id": "372be224",
   "metadata": {},
   "outputs": [],
   "source": [
    "print('La predicción fue: ',predictions)\n",
    "print('Accuracy score: ', format(accuracy_score(y_test,predictions)))"
   ]
  },
  {
   "cell_type": "code",
   "execution_count": null,
   "id": "6cfd8999",
   "metadata": {},
   "outputs": [],
   "source": [
    "from sklearn.metrics import confusion_matrix\n",
    "\n",
    "# Ejemplo de predicciones y etiquetas verdadera\n",
    "y_true = [0, 1, 1, 0, 1, 0 ,1 ,0, 0 ,0, 0, 1, 0, 1 ,0, 0, 0, 0, 0, 0 ,0 ,1, 0 ,1, 0]\n",
    "# Calcula la matriz de confusión\n",
    "confusion = confusion_matrix(y_true, predictions)\n",
    "\n",
    "print(\"Matriz de Confusión:\")\n",
    "print(confusion)\n",
    "\n"
   ]
  },
  {
   "cell_type": "code",
   "execution_count": null,
   "id": "abf372ff",
   "metadata": {},
   "outputs": [],
   "source": []
  }
 ],
 "metadata": {
  "kernelspec": {
   "display_name": "Python 3 (ipykernel)",
   "language": "python",
   "name": "python3"
  },
  "language_info": {
   "codemirror_mode": {
    "name": "ipython",
    "version": 3
   },
   "file_extension": ".py",
   "mimetype": "text/x-python",
   "name": "python",
   "nbconvert_exporter": "python",
   "pygments_lexer": "ipython3",
   "version": "3.9.13"
  }
 },
 "nbformat": 4,
 "nbformat_minor": 5
}
